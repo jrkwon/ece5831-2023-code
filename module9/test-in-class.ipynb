{
 "cells": [
  {
   "cell_type": "code",
   "execution_count": 30,
   "metadata": {},
   "outputs": [],
   "source": [
    "import string\n",
    "\n",
    "class Vectorizer:\n",
    "    def _standardize(self, text):\n",
    "        text = text.lower()\n",
    "        return \"\".join(char for char in text\n",
    "                       if char not in string.punctuation)\n",
    "    \n",
    "    def _tokenize(self, text):\n",
    "        return text.split()\n",
    "    \n",
    "    def make_vocabulary(self, dataset):\n",
    "        self.vocabulary = { \"\": 0, \"[UNK]\": 1 }\n",
    "        for text in dataset:\n",
    "            text = self._standardize(text)\n",
    "            tokens = self._tokenize(text)\n",
    "            for token in tokens:\n",
    "                if token not in self.vocabulary:\n",
    "                    self.vocabulary[token] = len(self.vocabulary)\n",
    "        \n",
    "        self.inverse_vocabulary = dict((v, k) for k, v in self.vocabulary.items())\n",
    "\n",
    "    def encode(self, text):\n",
    "        text = self._standardize(text)\n",
    "        tokens = self._tokenize(text)\n",
    "        return [self.vocabulary.get(token, 1) for token in tokens]\n",
    "\n",
    "    def decode(self, int_seq):\n",
    "        return \" \".join(self.inverse_vocabulary.get(i, \"[UNK]\") for i in int_seq)\n",
    "\n"
   ]
  },
  {
   "cell_type": "code",
   "execution_count": 32,
   "metadata": {},
   "outputs": [],
   "source": [
    "vectorizer = Vectorizer()"
   ]
  },
  {
   "cell_type": "code",
   "execution_count": 8,
   "metadata": {},
   "outputs": [],
   "source": [
    "convert_text = vectorizer.standardize(\"I write, you write, and someone writes.\")"
   ]
  },
  {
   "cell_type": "code",
   "execution_count": 9,
   "metadata": {},
   "outputs": [
    {
     "name": "stdout",
     "output_type": "stream",
     "text": [
      "i write you write and someone writes\n"
     ]
    }
   ],
   "source": [
    "print(convert_text)"
   ]
  },
  {
   "cell_type": "code",
   "execution_count": 10,
   "metadata": {},
   "outputs": [
    {
     "data": {
      "text/plain": [
       "['i', 'write', 'you', 'write', 'and', 'someone', 'writes']"
      ]
     },
     "execution_count": 10,
     "metadata": {},
     "output_type": "execute_result"
    }
   ],
   "source": [
    "vectorizer.tokenize(convert_text)"
   ]
  },
  {
   "cell_type": "code",
   "execution_count": 25,
   "metadata": {},
   "outputs": [],
   "source": [
    "dataset = [\n",
    "    \"Keras Applications are deep learning models that are made available alongside pre-trained weights.\",\n",
    "    \"Arithmetic Error These models can be used for prediction, feature extraction, and fine-tuning.\",\n",
    "    \"Weights are downloaded automatically when instantiating a model. They are stored at ~/.keras/models/.\"\n",
    "]"
   ]
  },
  {
   "cell_type": "code",
   "execution_count": 33,
   "metadata": {},
   "outputs": [],
   "source": [
    "vectorizer.make_vocabulary(dataset)"
   ]
  },
  {
   "cell_type": "code",
   "execution_count": 15,
   "metadata": {},
   "outputs": [
    {
     "data": {
      "text/plain": [
       "{'': 0,\n",
       " '[UNK]': 1,\n",
       " 'keras': 2,\n",
       " 'applications': 3,\n",
       " 'are': 4,\n",
       " 'deep': 5,\n",
       " 'learning': 6,\n",
       " 'models': 7,\n",
       " 'that': 8,\n",
       " 'made': 9,\n",
       " 'available': 10,\n",
       " 'alongside': 11,\n",
       " 'pretrained': 12,\n",
       " 'weights': 13,\n",
       " 'arithmetic': 14,\n",
       " 'error': 15,\n",
       " 'these': 16,\n",
       " 'can': 17,\n",
       " 'be': 18,\n",
       " 'used': 19,\n",
       " 'for': 20,\n",
       " 'prediction': 21,\n",
       " 'feature': 22,\n",
       " 'extraction': 23,\n",
       " 'and': 24,\n",
       " 'finetuning': 25,\n",
       " 'downloaded': 26,\n",
       " 'automatically': 27,\n",
       " 'when': 28,\n",
       " 'instantiating': 29,\n",
       " 'a': 30,\n",
       " 'model': 31,\n",
       " 'they': 32,\n",
       " 'stored': 33,\n",
       " 'at': 34,\n",
       " 'kerasmodels': 35}"
      ]
     },
     "execution_count": 15,
     "metadata": {},
     "output_type": "execute_result"
    }
   ],
   "source": [
    "vectorizer.vocabulary"
   ]
  },
  {
   "cell_type": "code",
   "execution_count": 16,
   "metadata": {},
   "outputs": [
    {
     "data": {
      "text/plain": [
       "{0: '',\n",
       " 1: '[UNK]',\n",
       " 2: 'keras',\n",
       " 3: 'applications',\n",
       " 4: 'are',\n",
       " 5: 'deep',\n",
       " 6: 'learning',\n",
       " 7: 'models',\n",
       " 8: 'that',\n",
       " 9: 'made',\n",
       " 10: 'available',\n",
       " 11: 'alongside',\n",
       " 12: 'pretrained',\n",
       " 13: 'weights',\n",
       " 14: 'arithmetic',\n",
       " 15: 'error',\n",
       " 16: 'these',\n",
       " 17: 'can',\n",
       " 18: 'be',\n",
       " 19: 'used',\n",
       " 20: 'for',\n",
       " 21: 'prediction',\n",
       " 22: 'feature',\n",
       " 23: 'extraction',\n",
       " 24: 'and',\n",
       " 25: 'finetuning',\n",
       " 26: 'downloaded',\n",
       " 27: 'automatically',\n",
       " 28: 'when',\n",
       " 29: 'instantiating',\n",
       " 30: 'a',\n",
       " 31: 'model',\n",
       " 32: 'they',\n",
       " 33: 'stored',\n",
       " 34: 'at',\n",
       " 35: 'kerasmodels'}"
      ]
     },
     "execution_count": 16,
     "metadata": {},
     "output_type": "execute_result"
    }
   ],
   "source": [
    "vectorizer.inverse_vocabulary"
   ]
  },
  {
   "cell_type": "code",
   "execution_count": 34,
   "metadata": {},
   "outputs": [],
   "source": [
    "encoded_text = vectorizer.encode(\"hello, world. They are stored.\")"
   ]
  },
  {
   "cell_type": "code",
   "execution_count": 35,
   "metadata": {},
   "outputs": [
    {
     "data": {
      "text/plain": [
       "'[UNK] [UNK] they are stored'"
      ]
     },
     "execution_count": 35,
     "metadata": {},
     "output_type": "execute_result"
    }
   ],
   "source": [
    "vectorizer.decode(encoded_text)"
   ]
  }
 ],
 "metadata": {
  "kernelspec": {
   "display_name": "ece5831-2023-py3.10",
   "language": "python",
   "name": "python3"
  },
  "language_info": {
   "codemirror_mode": {
    "name": "ipython",
    "version": 3
   },
   "file_extension": ".py",
   "mimetype": "text/x-python",
   "name": "python",
   "nbconvert_exporter": "python",
   "pygments_lexer": "ipython3",
   "version": "3.10.13"
  }
 },
 "nbformat": 4,
 "nbformat_minor": 2
}
